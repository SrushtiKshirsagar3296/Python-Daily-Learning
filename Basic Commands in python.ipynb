{
 "cells": [
  {
   "cell_type": "code",
   "execution_count": 3,
   "id": "74e4920e-eb06-4b85-b7fa-b4a40efe8eae",
   "metadata": {},
   "outputs": [
    {
     "name": "stdout",
     "output_type": "stream",
     "text": [
      "Hello World\n"
     ]
    }
   ],
   "source": [
    "#add\n",
    "print(\"Hello\"+\" World\")"
   ]
  },
  {
   "cell_type": "code",
   "execution_count": 5,
   "id": "b035e916-85a7-4a1a-b744-2fe8fa29e516",
   "metadata": {},
   "outputs": [
    {
     "name": "stdout",
     "output_type": "stream",
     "text": [
      "True\n"
     ]
    }
   ],
   "source": [
    "#contains\n",
    "s=\"Hellos World\"\n",
    "print(\"World\" in s)"
   ]
  },
  {
   "cell_type": "code",
   "execution_count": 6,
   "id": "60780ca4-e283-4fdd-8bcb-9ace98bf07cf",
   "metadata": {},
   "outputs": [
    {
     "name": "stdout",
     "output_type": "stream",
     "text": [
      "True\n",
      "False\n"
     ]
    }
   ],
   "source": [
    "#equality\n",
    "s = \"Hello, World!\"\n",
    "print(s == \"Hello, World!\")\n",
    "print(s == \"Hello\")   "
   ]
  },
  {
   "cell_type": "code",
   "execution_count": 9,
   "id": "929fa849-e554-4566-a7ad-e94e158d0970",
   "metadata": {},
   "outputs": [
    {
     "name": "stdout",
     "output_type": "stream",
     "text": [
      "Hello World\n"
     ]
    }
   ],
   "source": [
    "#format\n",
    "s=\"World\"\n",
    "result=f\"Hello {s}\"\n",
    "print(result)"
   ]
  },
  {
   "cell_type": "code",
   "execution_count": 11,
   "id": "a8344a80-be2a-46ff-bc56-2a4e8c71fb34",
   "metadata": {},
   "outputs": [
    {
     "name": "stdout",
     "output_type": "stream",
     "text": [
      "H\n",
      "W\n"
     ]
    }
   ],
   "source": [
    "#access a character\n",
    "s = \"Hello, World!\"\n",
    "\n",
    "print(s[0]) \n",
    "print(s[7]) "
   ]
  },
  {
   "cell_type": "code",
   "execution_count": 12,
   "id": "cdd021a4-d6ce-4d93-bc4c-d00caad5cc6e",
   "metadata": {},
   "outputs": [
    {
     "name": "stdout",
     "output_type": "stream",
     "text": [
      "13\n"
     ]
    }
   ],
   "source": [
    "#length\n",
    "s = \"Hello, World!\"\n",
    "print(len(s))"
   ]
  },
  {
   "cell_type": "code",
   "execution_count": 15,
   "id": "7f8733cf-b581-4e93-88a7-48a0e9e1b5ac",
   "metadata": {},
   "outputs": [
    {
     "name": "stdout",
     "output_type": "stream",
     "text": [
      "h\n",
      "e\n",
      "l\n",
      "l\n",
      "o\n"
     ]
    }
   ],
   "source": [
    "#iterate through the string\n",
    "s=\"hello\"\n",
    "for letter in s:\n",
    "    print(letter)"
   ]
  },
  {
   "cell_type": "code",
   "execution_count": 18,
   "id": "b9d049b3-d06a-4606-a92c-ee00329719af",
   "metadata": {},
   "outputs": [
    {
     "name": "stdout",
     "output_type": "stream",
     "text": [
      "True\n",
      "False\n"
     ]
    }
   ],
   "source": [
    "#to check non empty string\n",
    "s=\"World\"\n",
    "print(bool(s))\n",
    "\n",
    "q=\"\"\n",
    "print(bool(q))"
   ]
  },
  {
   "cell_type": "code",
   "execution_count": 20,
   "id": "e267ac39-9a93-4737-afa0-6ba053e0d8c4",
   "metadata": {},
   "outputs": [
    {
     "data": {
      "text/plain": [
       "'Hello World'"
      ]
     },
     "execution_count": 20,
     "metadata": {},
     "output_type": "execute_result"
    }
   ],
   "source": [
    "#join words\n",
    "s=[\"Hello\",\"World\"]\n",
    "result=\" \".join(s)\n",
    "result"
   ]
  },
  {
   "cell_type": "code",
   "execution_count": 22,
   "id": "5f698edf-25a0-4902-b5b2-ab76eae895a5",
   "metadata": {},
   "outputs": [
    {
     "name": "stdout",
     "output_type": "stream",
     "text": [
      "HELLO\n"
     ]
    }
   ],
   "source": [
    "#Upper case\n",
    "s=\"hello\"\n",
    "print(s.upper())"
   ]
  },
  {
   "cell_type": "code",
   "execution_count": 23,
   "id": "e4f9dd21-9342-4795-abde-31ccc84fff8b",
   "metadata": {},
   "outputs": [
    {
     "name": "stdout",
     "output_type": "stream",
     "text": [
      "hello\n"
     ]
    }
   ],
   "source": [
    "s=\" hello \"\n",
    "print(s.strip())"
   ]
  },
  {
   "cell_type": "code",
   "execution_count": 24,
   "id": "2635288c-bdd1-4192-955f-36d1d3d9d029",
   "metadata": {},
   "outputs": [
    {
     "name": "stdout",
     "output_type": "stream",
     "text": [
      "Hello Srushti\n"
     ]
    }
   ],
   "source": [
    "#replace\n",
    "s=\"Hello World\"\n",
    "print(s.replace(\"World\", \"Srushti\"))"
   ]
  },
  {
   "cell_type": "code",
   "execution_count": 25,
   "id": "c4b0eba3-f470-4d84-b6c7-11516fcacbc0",
   "metadata": {},
   "outputs": [
    {
     "name": "stdout",
     "output_type": "stream",
     "text": [
      "['Hello', 'World']\n"
     ]
    }
   ],
   "source": [
    "#Split\n",
    "s=\"Hello World\"\n",
    "print(s.split())\n"
   ]
  },
  {
   "cell_type": "code",
   "execution_count": 1,
   "id": "7ec7afb8-1fa0-461c-9436-143f0d463074",
   "metadata": {},
   "outputs": [
    {
     "name": "stdout",
     "output_type": "stream",
     "text": [
      "I have eaten 5 vegetables and 4 fruits\n"
     ]
    }
   ],
   "source": [
    "vegetables=5\n",
    "fruits=4\n",
    "print(f\"I have eaten {vegetables} vegetables and {fruits} fruits\") "
   ]
  },
  {
   "cell_type": "code",
   "execution_count": 4,
   "id": "acc63d33-a939-48ff-9d13-e4c2cbecede8",
   "metadata": {},
   "outputs": [
    {
     "data": {
      "text/plain": [
       "'The Himalayas are one of the youngest mountain ranges on the planet.'"
      ]
     },
     "execution_count": 4,
     "metadata": {},
     "output_type": "execute_result"
    }
   ],
   "source": [
    "s=\"The Himalayas are one of the youngest mountain ranges on the planet.\"\n",
    "s"
   ]
  },
  {
   "cell_type": "code",
   "execution_count": 6,
   "id": "9b3d6736-4626-4ad4-8669-9441351c06cb",
   "metadata": {},
   "outputs": [
    {
     "name": "stdout",
     "output_type": "stream",
     "text": [
      "The Himalayas\n"
     ]
    }
   ],
   "source": [
    "print(s[:13])"
   ]
  },
  {
   "cell_type": "code",
   "execution_count": 7,
   "id": "0545d73d-d467-47d1-8f42-8b2d06f27522",
   "metadata": {},
   "outputs": [
    {
     "name": "stdout",
     "output_type": "stream",
     "text": [
      "mountain ranges\n"
     ]
    }
   ],
   "source": [
    "print(s[-30:-15])"
   ]
  },
  {
   "cell_type": "code",
   "execution_count": 14,
   "id": "27f02850-f529-450a-8a6e-27f96216d51d",
   "metadata": {},
   "outputs": [
    {
     "name": "stdout",
     "output_type": "stream",
     "text": [
      "The Himalayas on the planet\n"
     ]
    }
   ],
   "source": [
    "print(s[:13],\"on the planet\" )"
   ]
  },
  {
   "cell_type": "code",
   "execution_count": 15,
   "id": "e5330b60-4e75-4169-ae32-4b13dec46a37",
   "metadata": {},
   "outputs": [
    {
     "data": {
      "text/plain": [
       "'There are 9 planets in the solar system'"
      ]
     },
     "execution_count": 15,
     "metadata": {},
     "output_type": "execute_result"
    }
   ],
   "source": [
    "string=\"There are 9 planets in the solar system\"\n",
    "string"
   ]
  },
  {
   "cell_type": "code",
   "execution_count": 22,
   "id": "5a516439-2260-4a3e-a3a7-6479c0932b54",
   "metadata": {},
   "outputs": [
    {
     "name": "stdout",
     "output_type": "stream",
     "text": [
      "There are 8 planets in the solar system\n"
     ]
    }
   ],
   "source": [
    "print(string.replace(\"9\",\"8\"))"
   ]
  },
  {
   "cell_type": "code",
   "execution_count": null,
   "id": "239b4e41-8d5f-464c-aae7-2a1909104262",
   "metadata": {},
   "outputs": [],
   "source": []
  },
  {
   "cell_type": "code",
   "execution_count": null,
   "id": "00a03edd-13bb-447b-8181-c729043813bf",
   "metadata": {},
   "outputs": [],
   "source": []
  }
 ],
 "metadata": {
  "kernelspec": {
   "display_name": "Python 3 (ipykernel)",
   "language": "python",
   "name": "python3"
  },
  "language_info": {
   "codemirror_mode": {
    "name": "ipython",
    "version": 3
   },
   "file_extension": ".py",
   "mimetype": "text/x-python",
   "name": "python",
   "nbconvert_exporter": "python",
   "pygments_lexer": "ipython3",
   "version": "3.11.7"
  }
 },
 "nbformat": 4,
 "nbformat_minor": 5
}
